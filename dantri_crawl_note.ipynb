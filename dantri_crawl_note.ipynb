{
  "nbformat": 4,
  "nbformat_minor": 0,
  "metadata": {
    "kernelspec": {
      "display_name": "Python 3",
      "language": "python",
      "name": "python3"
    },
    "language_info": {
      "codemirror_mode": {
        "name": "ipython",
        "version": 3
      },
      "file_extension": ".py",
      "mimetype": "text/x-python",
      "name": "python",
      "nbconvert_exporter": "python",
      "pygments_lexer": "ipython3",
      "version": "3.7.3"
    },
    "colab": {
      "name": "dantri_crawl_note.ipynb",
      "provenance": [],
      "include_colab_link": true
    }
  },
  "cells": [
    {
      "cell_type": "markdown",
      "metadata": {
        "id": "view-in-github",
        "colab_type": "text"
      },
      "source": [
        "<a href=\"https://colab.research.google.com/github/minhduc9699/PhamMinhDuc-D4E18/blob/master/dantri_crawl_note.ipynb\" target=\"_parent\"><img src=\"https://colab.research.google.com/assets/colab-badge.svg\" alt=\"Open In Colab\"/></a>"
      ]
    },
    {
      "cell_type": "markdown",
      "metadata": {
        "id": "UBxRh5-xcaDo"
      },
      "source": [
        "## Crawl data from websites with Python"
      ]
    },
    {
      "cell_type": "markdown",
      "metadata": {
        "id": "YYkqwvOEcaDy"
      },
      "source": [
        "Các bước thực hiện:\n",
        "\n",
        "1.   Xác định trang web và khu vực chưa dữ liệu cần lấy về\n",
        "2.   Sử dụng thư viện requests để lấy được html của trang web\n",
        "3.   Load html nhận được vào beautifulsoup để tiến hành bóc tách\n",
        "4.   Từng bước bóc tách html, truy cập đến các thẻ chứa dữ liệu cần lấy\n",
        "5.   Đóng gói và lưu dũ liệu"
      ]
    },
    {
      "cell_type": "markdown",
      "metadata": {
        "id": "9R1NoleGcaDz"
      },
      "source": [
        "1.\n",
        "    - Trong ví dụ này chúng ta sẽ chọn trang https://dantri.com.vn/ và vùng dữ liệu ở dưới để thực hành (tiêu đề và đường link của các bài báo trong mục tin tức sự kiện)"
      ]
    },
    {
      "cell_type": "markdown",
      "metadata": {
        "id": "GPvdNXgScaD0"
      },
      "source": [
        "![Screen%20Shot%202020-12-19%20at%2023.28.58.png](attachment:Screen%20Shot%202020-12-19%20at%2023.28.58.png)"
      ]
    },
    {
      "cell_type": "markdown",
      "metadata": {
        "id": "JLxVHApNcaD0"
      },
      "source": [
        "2.\n",
        "    - Tiến hành cài đặt thư viện requests và beautifulsoup.\n",
        "    - Mở terminal mà chạy lần lượt 2 lệnh cài đặt ở dưới"
      ]
    },
    {
      "cell_type": "markdown",
      "metadata": {
        "id": "N5F58Mf9cdcP"
      },
      "source": [
        "- ```pip install requests```\r\n",
        "- ```pip install beautifulsoup4```"
      ]
    },
    {
      "cell_type": "markdown",
      "metadata": {
        "id": "3iI6dOFPcaD3"
      },
      "source": [
        "- Sau khi cài đặt xong chúng ta có thể import thư viện requests và beautifulsoup vào file code và sử dụng như sau"
      ]
    },
    {
      "cell_type": "code",
      "metadata": {
        "id": "RqO8d_yAcaD3"
      },
      "source": [
        "from requests import get\n",
        "from bs4 import BeautifulSoup"
      ],
      "execution_count": 2,
      "outputs": []
    },
    {
      "cell_type": "markdown",
      "metadata": {
        "id": "jXSNDtkBcaD4"
      },
      "source": [
        " - Hàm get của thư viện requests sẽ giúp ta gửi requests đến server của trang web giống như cách trình duyệt làm, cách sử dụng như sau"
      ]
    },
    {
      "cell_type": "code",
      "metadata": {
        "id": "TQ1gJ23mcaD4"
      },
      "source": [
        "response = get('https://dantri.com.vn')\r\n",
        "print(response.text)"
      ],
      "execution_count": null,
      "outputs": []
    },
    {
      "cell_type": "markdown",
      "metadata": {
        "id": "ojKrwGTicaD5"
      },
      "source": [
        "- Lúc này dữ liệu trả về từ server dantri.com nằm ở trong biến ```response```. Trong biến trên có rất nhiều các loại dữ liệu khác nhau, để truy cập vào html của trang web, ta phải dùng ```response.text```\r\n",
        "- Tiếp tục sử dụng hàm ```BeautifulSoup``` để tiến hành bóc tách"
      ]
    },
    {
      "cell_type": "code",
      "metadata": {
        "id": "fP3EgUpCcaD5"
      },
      "source": [
        "content_html = BeautifulSoup(response.text)"
      ],
      "execution_count": 6,
      "outputs": []
    },
    {
      "cell_type": "markdown",
      "metadata": {
        "id": "Jzv9YkWCeA8y"
      },
      "source": [
        "- Nếu ta in ra biến ```content_html``` ở trên thì nội dung nhận được vẫn sẽ giống với ```response.text```. Điểm khác biệt ở đây, là ta có thể sử dụng những hàm bóc tách của ```BeautifulSoup```\r\n",
        "- Trước đó ta cần phải nắm được cú pháp cơ bản của html để truy cập được vào vũng dữ liệu cần lấy"
      ]
    },
    {
      "cell_type": "markdown",
      "metadata": {
        "id": "qHIk_2Pof7hi"
      },
      "source": [
        "- Dưới đây là 1 đoạn html cơ bản\r\n",
        "\r\n",
        ">```<h1 class=\"header headline\" id=\"highlighted\">Hello world</h1>```\r\n",
        "\r\n",
        "- Đây là tên gọi cho thành từng phần của đoạn html trên\r\n",
        "\r\n",
        ">```<tag_name attribute_1=\"value1 value 2\" attribute_2=\"value1\">display_content</tag_name>```\r\n",
        "\r\n",
        "- Một đoạn html phức tạp hơn một chút\r\n",
        "\r\n",
        ">```<div><h1>Hello world</h1></div>```\r\n",
        "\r\n",
        "- Ta thấy content của tag ```div``` lúc này lại là 1 đoạn html khác, cụ thể là tag tên ```h1```. Lúc này ta sẽ gọi tag ```div``` là tag chả của ```h1```, và ```h1``` là con của ```div```"
      ]
    },
    {
      "cell_type": "markdown",
      "metadata": {
        "id": "nJ5tdmMRhGiO"
      },
      "source": [
        "- Hãy ghi nhớ cấu trúc html trên, chúng ta sẽ sử dụng ngay sau đây"
      ]
    },
    {
      "cell_type": "code",
      "metadata": {
        "colab": {
          "base_uri": "https://localhost:8080/"
        },
        "id": "TDd3DMkFf6MX",
        "outputId": "4b857426-32ce-4e9f-a7f6-996dce3e6807"
      },
      "source": [
        "headline_content_html = content_html.find('ul', {'class': 'dt-list'})\r\n",
        "print(headline_content_html)"
      ],
      "execution_count": 15,
      "outputs": [
        {
          "output_type": "stream",
          "text": [
            "<ul class=\"dt-list dt-list--link\">\n",
            "<li>\n",
            "<div class=\"news-item news-item--link\">\n",
            "<h2 class=\"news-item__title\">\n",
            "<a data-newstype=\"3\" data-utm=\"Home|TTSK|1\" href=\"/xa-hoi/ap-thap-nhiet-doi-kha-nang-thanh-bao-co-dien-bien-kha-phuc-tap-20201220105949420.htm\">\r\n",
            "                                        Áp thấp nhiệt đới khả năng thành bão có diễn biến khá phức tạp\r\n",
            "                                    </a>\n",
            "</h2>\n",
            "</div>\n",
            "</li>\n",
            "<li>\n",
            "<div class=\"news-item news-item--link\">\n",
            "<h2 class=\"news-item__title\">\n",
            "<a data-newstype=\"3\" data-utm=\"Home|TTSK|2\" href=\"/the-gioi/ong-trump-muon-bo-nhiem-cong-to-vien-dac-biet-dieu-tra-gian-lan-bau-cu-my-20201220085401543.htm\">\r\n",
            "                                        Ông Trump muốn bổ nhiệm công tố viên đặc biệt điều tra gian lận bầu cử Mỹ\r\n",
            "                                    </a>\n",
            "</h2>\n",
            "</div>\n",
            "</li>\n",
            "<li>\n",
            "<div class=\"news-item news-item--link\">\n",
            "<h2 class=\"news-item__title\">\n",
            "<a data-newstype=\"3\" data-utm=\"Home|TTSK|3\" href=\"/xa-hoi/bi-ket-luan-ke-khai-tai-san-khong-trung-thuc-thi-hau-qua-kha-la-lon-20201219203212894.htm\">\r\n",
            "                                        \"Bị kết luận kê khai tài sản không trung thực thì hậu quả khá là lớn\"\r\n",
            "                                    </a>\n",
            "</h2>\n",
            "</div>\n",
            "</li>\n",
            "<li>\n",
            "<div class=\"news-item news-item--link\">\n",
            "<h2 class=\"news-item__title\">\n",
            "<a data-newstype=\"3\" data-utm=\"Home|TTSK|4\" href=\"/the-gioi/nhung-cuoc-chuyen-giao-quyen-luc-tong-thong-song-gio-nhat-lich-su-my-20201220080600703.htm\">\r\n",
            "                                        Những cuộc chuyển giao quyền lực tổng thống sóng gió nhất lịch sử Mỹ\r\n",
            "                                    </a>\n",
            "</h2>\n",
            "</div>\n",
            "</li>\n",
            "<li>\n",
            "<div class=\"news-item news-item--link\">\n",
            "<h2 class=\"news-item__title\">\n",
            "<a data-newstype=\"3\" data-utm=\"Home|TTSK|5\" href=\"/phap-luat/tu-tu-ma-tuy-con-oi-bo-xin-loi-20201219171616961.htm\">\r\n",
            "                                        Tử tù ma túy: Con ơi, bố xin lỗi!\r\n",
            "                                    </a>\n",
            "</h2>\n",
            "</div>\n",
            "</li>\n",
            "<li>\n",
            "<div class=\"news-item news-item--link\">\n",
            "<h2 class=\"news-item__title\">\n",
            "<a data-newstype=\"3\" data-utm=\"Home|TTSK|6\" href=\"/suc-khoe/troi-ret-dam-canh-giac-voi-benh-ly-gay-chet-nguoi-nay-20201220101523641.htm\">\r\n",
            "                                        Trời rét đậm, cảnh giác với bệnh lý gây chết người này\r\n",
            "                                    </a>\n",
            "</h2>\n",
            "</div>\n",
            "</li>\n",
            "<li>\n",
            "<div class=\"news-item news-item--link\">\n",
            "<h2 class=\"news-item__title\">\n",
            "<a data-newstype=\"3\" data-utm=\"Home|TTSK|7\" href=\"/the-gioi/nghi-van-song-ngam-giua-de-nhat-phu-nhan-melania-va-ivanka-20201220103554258.htm\">\r\n",
            "                                        Nghi vấn \"sóng ngầm\" giữa Đệ nhất Phu nhân Melania và Ivanka\r\n",
            "                                    </a>\n",
            "</h2>\n",
            "</div>\n",
            "</li>\n",
            "<li>\n",
            "<div class=\"news-item news-item--link\">\n",
            "<h2 class=\"news-item__title\">\n",
            "<a data-newstype=\"3\" data-utm=\"Home|TTSK|8\" href=\"/the-gioi/my-ghi-nhan-ky-luc-soc-tren-400000-ca-covid-19-moi-trong-24-gio-20201220071357928.htm\">\r\n",
            "                                        Mỹ ghi nhận kỷ lục \"sốc\": Trên 400.000 ca Covid-19 mới trong 24 giờ\r\n",
            "                                    </a>\n",
            "</h2>\n",
            "</div>\n",
            "</li>\n",
            "<li>\n",
            "<div class=\"news-item news-item--link\">\n",
            "<h2 class=\"news-item__title\">\n",
            "<a data-newstype=\"3\" data-utm=\"Home|TTSK|9\" href=\"/phap-luat/vien-kiem-sat-quan-su-trung-uong-truy-to-dinh-tien-su-cung-2-dong-pham-20201219213242961.htm\">\r\n",
            "                                        Viện kiểm sát Quân sự Trung ương truy tố Đinh Tiến Sử cùng 2 đồng phạm\r\n",
            "                                    </a>\n",
            "</h2>\n",
            "</div>\n",
            "</li>\n",
            "<li>\n",
            "<div class=\"news-item news-item--link\">\n",
            "<h2 class=\"news-item__title\">\n",
            "<a data-newstype=\"3\" data-utm=\"Home|TTSK|10\" href=\"/tam-long-nhan-ai/thuong-cau-be-vua-nhap-hoc-da-phai-xa-truong-chong-choi-voi-benh-ung-thu-20201207024846031.htm\">\r\n",
            "                                        Thương cậu bé vừa nhập học đã phải xa trường chống chọi với bệnh ung thư\r\n",
            "                                    </a>\n",
            "</h2>\n",
            "</div>\n",
            "</li>\n",
            "</ul>\n"
          ],
          "name": "stdout"
        }
      ]
    },
    {
      "cell_type": "markdown",
      "metadata": {
        "id": "PEW-INuMiANa"
      },
      "source": [
        "- Đoạn code trên ta đã sử dụng lệnh ```.find()``` từ biến ```content_html``` để tìm ra tag html khớp với tham số đầu vào, trong đó: \r\n",
        "> - ```'ul'``` là tên của tag html cần tìm\r\n",
        "> - ```{'class': 'dt-list'}``` là thông tin thêm của thẻ đó, cụ thể key `class` là attribute của tag ul, `dt-list` là value của attribute `class` đó\r\n",
        "\r\n",
        "- kết quả ta nhận được là đoạn html của tag `ul` đó, và lưu vào biến `headline_content_html`"
      ]
    },
    {
      "cell_type": "markdown",
      "metadata": {
        "id": "INSrfpuXnoQB"
      },
      "source": [
        "- Tiếp tục từ biến ```headline_content_html```, ta sẽ lấy tiếp các thẻ của chứa tiêu đề và link bài báo"
      ]
    },
    {
      "cell_type": "code",
      "metadata": {
        "id": "CFpYWd6DnoGT"
      },
      "source": [
        "headers = headline_content_html.find_all('li')\r\n",
        "print(headers)\r\n",
        "print('-----------------------')\r\n",
        "print(headers[0])"
      ],
      "execution_count": null,
      "outputs": []
    },
    {
      "cell_type": "markdown",
      "metadata": {
        "id": "1kbHGIorroqg"
      },
      "source": [
        "- Ở trên ta không dùng lệnh `find` nữa là dùng `find_all`, lý do là ở trong tag `ul` có rất nhiều tag `li`, các tag này không có attribute để phân biệt với nhau, nên ta dùng `find_all` để lấy ra được toàn bộ các tag `li`. Kiểu dữ liệu của biến headers lúc này là một list có chứa các tag html bên trong.\r\n",
        "\r\n",
        "- Đã gần tới được nội dung cần lấy rồi, bây giờ ta sẽ dùng vòng lặp `for` để lần lượt truy cập vào các tag `li`"
      ]
    },
    {
      "cell_type": "code",
      "metadata": {
        "colab": {
          "base_uri": "https://localhost:8080/"
        },
        "id": "hAUyXAm6sk-s",
        "outputId": "e0321506-9f0c-4f3c-d2c3-1df041547728"
      },
      "source": [
        "for header_html in headers:\r\n",
        "  a_tag = header_html.find('a')\r\n",
        "  title = a_tag.text\r\n",
        "  link = a_tag['href']\r\n",
        "  print(f'title: {title.strip()}, link: {link}')"
      ],
      "execution_count": 19,
      "outputs": [
        {
          "output_type": "stream",
          "text": [
            "title: Áp thấp nhiệt đới khả năng thành bão có diễn biến khá phức tạp, link: /xa-hoi/ap-thap-nhiet-doi-kha-nang-thanh-bao-co-dien-bien-kha-phuc-tap-20201220105949420.htm\n",
            "title: Ông Trump muốn bổ nhiệm công tố viên đặc biệt điều tra gian lận bầu cử Mỹ, link: /the-gioi/ong-trump-muon-bo-nhiem-cong-to-vien-dac-biet-dieu-tra-gian-lan-bau-cu-my-20201220085401543.htm\n",
            "title: \"Bị kết luận kê khai tài sản không trung thực thì hậu quả khá là lớn\", link: /xa-hoi/bi-ket-luan-ke-khai-tai-san-khong-trung-thuc-thi-hau-qua-kha-la-lon-20201219203212894.htm\n",
            "title: Những cuộc chuyển giao quyền lực tổng thống sóng gió nhất lịch sử Mỹ, link: /the-gioi/nhung-cuoc-chuyen-giao-quyen-luc-tong-thong-song-gio-nhat-lich-su-my-20201220080600703.htm\n",
            "title: Tử tù ma túy: Con ơi, bố xin lỗi!, link: /phap-luat/tu-tu-ma-tuy-con-oi-bo-xin-loi-20201219171616961.htm\n",
            "title: Trời rét đậm, cảnh giác với bệnh lý gây chết người này, link: /suc-khoe/troi-ret-dam-canh-giac-voi-benh-ly-gay-chet-nguoi-nay-20201220101523641.htm\n",
            "title: Nghi vấn \"sóng ngầm\" giữa Đệ nhất Phu nhân Melania và Ivanka, link: /the-gioi/nghi-van-song-ngam-giua-de-nhat-phu-nhan-melania-va-ivanka-20201220103554258.htm\n",
            "title: Mỹ ghi nhận kỷ lục \"sốc\": Trên 400.000 ca Covid-19 mới trong 24 giờ, link: /the-gioi/my-ghi-nhan-ky-luc-soc-tren-400000-ca-covid-19-moi-trong-24-gio-20201220071357928.htm\n",
            "title: Viện kiểm sát Quân sự Trung ương truy tố Đinh Tiến Sử cùng 2 đồng phạm, link: /phap-luat/vien-kiem-sat-quan-su-trung-uong-truy-to-dinh-tien-su-cung-2-dong-pham-20201219213242961.htm\n",
            "title: Thương cậu bé vừa nhập học đã phải xa trường chống chọi với bệnh ung thư, link: /tam-long-nhan-ai/thuong-cau-be-vua-nhap-hoc-da-phai-xa-truong-chong-choi-voi-benh-ung-thu-20201207024846031.htm\n"
          ],
          "name": "stdout"
        }
      ]
    },
    {
      "cell_type": "markdown",
      "metadata": {
        "id": "0jMe31ajtOWT"
      },
      "source": [
        "- Với đoạn code ở trong vòng lặp ở trên, ta đã tìm tag `a` ở trong tag `li`, đây mới thực sự là thẻ chứa tiêu đề và link của các bài báo\r\n",
        "- Sau đó ta dùng `a_tag.text` để lấy được content của tag này và lưu vào biến `title` - lúc này `title` có kiểu dữ liệu là string\r\n",
        "- Còn với link của bài viết, ta cần truy cập vào attribute của tag `a` có tên là `href` (cú pháp giống với việc truy cập vào key trong dictionary)\r\n",
        "- khi in ra kết quả ta dùng lệnh `.strip()` để loại bỏ các khoảng trắng ở đầu và ở cuối của đoạn string\r\n"
      ]
    },
    {
      "cell_type": "markdown",
      "metadata": {
        "id": "yH2JSwIsuL0w"
      },
      "source": [
        "- Vậy là chúng ta đã lấy được tiêu đề và link của các bài báo tiêu điểm trên dantri.com"
      ]
    }
  ]
}